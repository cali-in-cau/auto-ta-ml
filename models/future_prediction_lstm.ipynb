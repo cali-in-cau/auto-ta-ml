{
  "nbformat": 4,
  "nbformat_minor": 0,
  "metadata": {
    "colab": {
      "name": "future_prediction_lstm.ipynb",
      "provenance": []
    },
    "kernelspec": {
      "name": "python3",
      "display_name": "Python 3"
    },
    "accelerator": "GPU"
  },
  "cells": [
    {
      "cell_type": "code",
      "metadata": {
        "id": "85KkphsMJ3uR"
      },
      "source": [
        "from keras.layers.core import Dense, Activation, Dropout\n",
        "from keras.layers.recurrent import LSTM\n",
        "from keras.models import Sequential\n",
        "import time #helper libraries"
      ],
      "execution_count": null,
      "outputs": []
    },
    {
      "cell_type": "code",
      "metadata": {
        "id": "Hrgsel9rKIde"
      },
      "source": [
        "# Code to read csv file into Colaboratory:\n",
        "!pip install -U -q PyDrive\n",
        "from pydrive.auth import GoogleAuth\n",
        "from pydrive.drive import GoogleDrive\n",
        "from google.colab import auth\n",
        "from oauth2client.client import GoogleCredentials\n",
        "# Authenticate and create the PyDrive client.\n",
        "auth.authenticate_user()\n",
        "gauth = GoogleAuth()\n",
        "gauth.credentials = GoogleCredentials.get_application_default()\n",
        "drive = GoogleDrive(gauth)"
      ],
      "execution_count": null,
      "outputs": []
    },
    {
      "cell_type": "code",
      "metadata": {
        "id": "PBZteUAtKS07"
      },
      "source": [
        "link = 'https://drive.google.com/open?id=1y394o-wiPqYPaWzVYTPRr8xpE_aM9621'\n",
        "#OHLC CSV 파일 드라이브 링크"
      ],
      "execution_count": null,
      "outputs": []
    },
    {
      "cell_type": "code",
      "metadata": {
        "id": "CojzuIyEKWMn",
        "colab": {
          "base_uri": "https://localhost:8080/"
        },
        "outputId": "62b6703d-a985-4db0-e78a-3ada3b0a573a"
      },
      "source": [
        "fluff, id = link.split('=')\n",
        "print (id) # Verify that you have everything after '='"
      ],
      "execution_count": null,
      "outputs": [
        {
          "output_type": "stream",
          "text": [
            "1y394o-wiPqYPaWzVYTPRr8xpE_aM9621\n"
          ],
          "name": "stdout"
        }
      ]
    },
    {
      "cell_type": "code",
      "metadata": {
        "id": "_d4iaSvqKc0p"
      },
      "source": [
        "import pandas as pd\n",
        "downloaded = drive.CreateFile({'id':id}) \n",
        "downloaded.GetContentFile('AMZN.csv')  \n",
        "df3 = pd.read_csv('AMZN.csv')\n",
        "# Dataset is now stored in a Pandas Dataframe"
      ],
      "execution_count": null,
      "outputs": []
    },
    {
      "cell_type": "code",
      "metadata": {
        "id": "RAfBC2VLKnkW"
      },
      "source": [
        "df3 = df3.dropna(axis = \"columns\")"
      ],
      "execution_count": null,
      "outputs": []
    },
    {
      "cell_type": "code",
      "metadata": {
        "id": "nSrYDov5KpRK",
        "colab": {
          "base_uri": "https://localhost:8080/",
          "height": 204
        },
        "outputId": "062867fe-96d3-43fb-f753-28e4af81498f"
      },
      "source": [
        "df3.head()"
      ],
      "execution_count": null,
      "outputs": [
        {
          "output_type": "execute_result",
          "data": {
            "text/html": [
              "<div>\n",
              "<style scoped>\n",
              "    .dataframe tbody tr th:only-of-type {\n",
              "        vertical-align: middle;\n",
              "    }\n",
              "\n",
              "    .dataframe tbody tr th {\n",
              "        vertical-align: top;\n",
              "    }\n",
              "\n",
              "    .dataframe thead th {\n",
              "        text-align: right;\n",
              "    }\n",
              "</style>\n",
              "<table border=\"1\" class=\"dataframe\">\n",
              "  <thead>\n",
              "    <tr style=\"text-align: right;\">\n",
              "      <th></th>\n",
              "      <th>Date</th>\n",
              "      <th>Open</th>\n",
              "      <th>High</th>\n",
              "      <th>Low</th>\n",
              "      <th>Adj Close</th>\n",
              "      <th>Volume</th>\n",
              "      <th>Close</th>\n",
              "    </tr>\n",
              "  </thead>\n",
              "  <tbody>\n",
              "    <tr>\n",
              "      <th>0</th>\n",
              "      <td>1/4/2010</td>\n",
              "      <td>136.250000</td>\n",
              "      <td>136.610001</td>\n",
              "      <td>133.139999</td>\n",
              "      <td>133.899994</td>\n",
              "      <td>7599900</td>\n",
              "      <td>133.899994</td>\n",
              "    </tr>\n",
              "    <tr>\n",
              "      <th>1</th>\n",
              "      <td>1/5/2010</td>\n",
              "      <td>133.429993</td>\n",
              "      <td>135.479996</td>\n",
              "      <td>131.809998</td>\n",
              "      <td>134.690002</td>\n",
              "      <td>8851900</td>\n",
              "      <td>134.690002</td>\n",
              "    </tr>\n",
              "    <tr>\n",
              "      <th>2</th>\n",
              "      <td>1/6/2010</td>\n",
              "      <td>134.600006</td>\n",
              "      <td>134.729996</td>\n",
              "      <td>131.649994</td>\n",
              "      <td>132.250000</td>\n",
              "      <td>7178800</td>\n",
              "      <td>132.250000</td>\n",
              "    </tr>\n",
              "    <tr>\n",
              "      <th>3</th>\n",
              "      <td>1/7/2010</td>\n",
              "      <td>132.009995</td>\n",
              "      <td>132.320007</td>\n",
              "      <td>128.800003</td>\n",
              "      <td>130.000000</td>\n",
              "      <td>11030200</td>\n",
              "      <td>130.000000</td>\n",
              "    </tr>\n",
              "    <tr>\n",
              "      <th>4</th>\n",
              "      <td>1/8/2010</td>\n",
              "      <td>130.559998</td>\n",
              "      <td>133.679993</td>\n",
              "      <td>129.029999</td>\n",
              "      <td>133.520004</td>\n",
              "      <td>9830500</td>\n",
              "      <td>133.520004</td>\n",
              "    </tr>\n",
              "  </tbody>\n",
              "</table>\n",
              "</div>"
            ],
            "text/plain": [
              "       Date        Open        High  ...   Adj Close    Volume       Close\n",
              "0  1/4/2010  136.250000  136.610001  ...  133.899994   7599900  133.899994\n",
              "1  1/5/2010  133.429993  135.479996  ...  134.690002   8851900  134.690002\n",
              "2  1/6/2010  134.600006  134.729996  ...  132.250000   7178800  132.250000\n",
              "3  1/7/2010  132.009995  132.320007  ...  130.000000  11030200  130.000000\n",
              "4  1/8/2010  130.559998  133.679993  ...  133.520004   9830500  133.520004\n",
              "\n",
              "[5 rows x 7 columns]"
            ]
          },
          "metadata": {
            "tags": []
          },
          "execution_count": 7
        }
      ]
    },
    {
      "cell_type": "code",
      "metadata": {
        "id": "IQqQ3EDPKsSM"
      },
      "source": [
        "import numpy as np\n"
      ],
      "execution_count": null,
      "outputs": []
    },
    {
      "cell_type": "code",
      "metadata": {
        "id": "C-7qfcVwKuDc"
      },
      "source": [
        "df_close = df3['Close']\n",
        "# close 값에만 집중하기"
      ],
      "execution_count": null,
      "outputs": []
    },
    {
      "cell_type": "code",
      "metadata": {
        "id": "hhhKEWlhKzLy",
        "colab": {
          "base_uri": "https://localhost:8080/"
        },
        "outputId": "ed2d2708-6709-4f1e-99a9-6a9e2ff26151"
      },
      "source": [
        "df_close.shape\n"
      ],
      "execution_count": null,
      "outputs": [
        {
          "output_type": "execute_result",
          "data": {
            "text/plain": [
              "(2265,)"
            ]
          },
          "metadata": {
            "tags": []
          },
          "execution_count": 10
        }
      ]
    },
    {
      "cell_type": "code",
      "metadata": {
        "id": "EX5wVloBK2sd"
      },
      "source": [
        "#Reshaping it\n",
        "df_close = df_close.values.reshape(2265,1)"
      ],
      "execution_count": null,
      "outputs": []
    },
    {
      "cell_type": "code",
      "metadata": {
        "id": "kHtrqcL3K4qg",
        "colab": {
          "base_uri": "https://localhost:8080/",
          "height": 265
        },
        "outputId": "8e32e65e-4db3-46f0-d5a0-52c23c1a2887"
      },
      "source": [
        "import matplotlib.pyplot as plt\n",
        "from sklearn.preprocessing import MinMaxScaler\n",
        "\n",
        "#Ploting it\n",
        "plt.plot(df_close)\n",
        "plt.show()\n",
        "\n",
        "scaler = MinMaxScaler(feature_range=(0, 1))\n",
        "df_close = scaler.fit_transform(df_close)"
      ],
      "execution_count": null,
      "outputs": [
        {
          "output_type": "display_data",
          "data": {
            "image/png": "[encoded data removed]",
            "text/plain": [
              "<Figure size 432x288 with 1 Axes>"
            ]
          },
          "metadata": {
            "tags": [],
            "needs_background": "light"
          }
        }
      ]
    },
    {
      "cell_type": "code",
      "metadata": {
        "id": "HziZCWHuK64M",
        "colab": {
          "base_uri": "https://localhost:8080/"
        },
        "outputId": "6c916251-f477-4fa0-881d-594f2c6c92df"
      },
      "source": [
        "train_size = int(len(df_close) * 0.80)\n",
        "test_size = len(df_close) - train_size\n",
        "train, test = df_close[0:train_size,:], df_close[train_size:len(df_close),:]\n",
        "print(len(train), len(test))"
      ],
      "execution_count": null,
      "outputs": [
        {
          "output_type": "stream",
          "text": [
            "1812 453\n"
          ],
          "name": "stdout"
        }
      ]
    },
    {
      "cell_type": "code",
      "metadata": {
        "id": "MGAPo3PHK9ae"
      },
      "source": [
        "# convert an array of values into a dataset matrix\n",
        "def create_dataset(dataset, look_back=1): #keep only similar value data if a data point is too far of the last one jump to the next value\n",
        "\tdataX, dataY = [], []       #put this in data x\n",
        "\tfor i in range(len(dataset)-look_back-1): #let dataY have only output values\n",
        "\t\ta = dataset[i:(i+look_back), 0]\n",
        "\t\tdataX.append(a)\n",
        "\t\tdataY.append(dataset[i + look_back, 0])\n",
        "\treturn np.array(dataX), np.array(dataY)"
      ],
      "execution_count": null,
      "outputs": []
    },
    {
      "cell_type": "code",
      "metadata": {
        "id": "3G7iaGIHK_UG"
      },
      "source": [
        "# reshape into X=t and Y=t+1\n",
        "look_back = 1\n",
        "trainX, trainY = create_dataset(train, look_back)\n",
        "testX, testY = create_dataset(test, look_back)"
      ],
      "execution_count": null,
      "outputs": []
    },
    {
      "cell_type": "code",
      "metadata": {
        "id": "3utJHqPyLBJA"
      },
      "source": [
        "trainX = np.reshape(trainX, (trainX.shape[0], 1, trainX.shape[1]))\n",
        "testX = np.reshape(testX, (testX.shape[0], 1, testX.shape[1]))"
      ],
      "execution_count": null,
      "outputs": []
    },
    {
      "cell_type": "code",
      "metadata": {
        "id": "WpziAoL3LD5U",
        "colab": {
          "base_uri": "https://localhost:8080/"
        },
        "outputId": "24ea16b4-e69c-4954-de87-46f549444231"
      },
      "source": [
        "# Build Model\n",
        "model = Sequential()\n",
        "\n",
        "model.add(LSTM(\n",
        "    input_dim=1,\n",
        "    units=50,\n",
        "    return_sequences=True))\n",
        "model.add(Dropout(0.2))\n",
        "\n",
        "model.add(LSTM(\n",
        "    100,\n",
        "    return_sequences=False))\n",
        "model.add(Dropout(0.2))\n",
        "\n",
        "model.add(Dense(\n",
        "    units=1))\n",
        "model.add(Activation('relu'))\n",
        "\n",
        "start = time.time()\n",
        "model.compile(loss='mse', optimizer='rmsprop', metrics=['mae'])\n",
        "print ('compilation time : ', time.time() - start)"
      ],
      "execution_count": null,
      "outputs": [
        {
          "output_type": "stream",
          "text": [
            "compilation time :  0.014111757278442383\n"
          ],
          "name": "stdout"
        }
      ]
    },
    {
      "cell_type": "code",
      "metadata": {
        "id": "HJYj-IZZLpCF",
        "colab": {
          "base_uri": "https://localhost:8080/"
        },
        "outputId": "ca2e0966-15d1-4980-b834-d321965e850e"
      },
      "source": [
        "model.fit(\n",
        "    trainX,\n",
        "    trainY,\n",
        "    batch_size=128,\n",
        "    epochs=80,\n",
        "    validation_split=0.05)"
      ],
      "execution_count": null,
      "outputs": [
        {
          "output_type": "stream",
          "text": [
            "Epoch 1/80\n",
            "14/14 [==============================] - 9s 52ms/step - loss: 0.0149 - mae: 0.0861 - val_loss: 0.0494 - val_mae: 0.2215\n",
            "Epoch 2/80\n",
            "14/14 [==============================] - 0s 7ms/step - loss: 0.0067 - mae: 0.0639 - val_loss: 0.0413 - val_mae: 0.2026\n",
            "Epoch 3/80\n",
            "14/14 [==============================] - 0s 6ms/step - loss: 0.0051 - mae: 0.0553 - val_loss: 0.0249 - val_mae: 0.1572\n",
            "Epoch 4/80\n",
            "14/14 [==============================] - 0s 7ms/step - loss: 0.0034 - mae: 0.0458 - val_loss: 0.0117 - val_mae: 0.1078\n",
            "Epoch 5/80\n",
            "14/14 [==============================] - 0s 6ms/step - loss: 0.0015 - mae: 0.0305 - val_loss: 0.0040 - val_mae: 0.0628\n",
            "Epoch 6/80\n",
            "14/14 [==============================] - 0s 7ms/step - loss: 5.1072e-04 - mae: 0.0169 - val_loss: 9.6142e-05 - val_mae: 0.0088\n",
            "Epoch 7/80\n",
            "14/14 [==============================] - 0s 6ms/step - loss: 2.6011e-04 - mae: 0.0115 - val_loss: 2.8338e-05 - val_mae: 0.0038\n",
            "Epoch 8/80\n",
            "14/14 [==============================] - 0s 6ms/step - loss: 2.2134e-04 - mae: 0.0102 - val_loss: 1.2019e-04 - val_mae: 0.0099\n",
            "Epoch 9/80\n",
            "14/14 [==============================] - 0s 6ms/step - loss: 2.1661e-04 - mae: 0.0102 - val_loss: 3.6804e-05 - val_mae: 0.0047\n",
            "Epoch 10/80\n",
            "14/14 [==============================] - 0s 6ms/step - loss: 2.0328e-04 - mae: 0.0097 - val_loss: 3.3155e-05 - val_mae: 0.0044\n",
            "Epoch 11/80\n",
            "14/14 [==============================] - 0s 7ms/step - loss: 1.8156e-04 - mae: 0.0093 - val_loss: 5.3972e-05 - val_mae: 0.0059\n",
            "Epoch 12/80\n",
            "14/14 [==============================] - 0s 7ms/step - loss: 1.9266e-04 - mae: 0.0093 - val_loss: 3.1934e-05 - val_mae: 0.0043\n",
            "Epoch 13/80\n",
            "14/14 [==============================] - 0s 6ms/step - loss: 1.6718e-04 - mae: 0.0084 - val_loss: 2.8767e-05 - val_mae: 0.0039\n",
            "Epoch 14/80\n",
            "14/14 [==============================] - 0s 7ms/step - loss: 1.6994e-04 - mae: 0.0082 - val_loss: 4.6932e-04 - val_mae: 0.0209\n",
            "Epoch 15/80\n",
            "14/14 [==============================] - 0s 6ms/step - loss: 1.6087e-04 - mae: 0.0086 - val_loss: 1.6428e-04 - val_mae: 0.0118\n",
            "Epoch 16/80\n",
            "14/14 [==============================] - 0s 7ms/step - loss: 2.0884e-04 - mae: 0.0108 - val_loss: 2.8951e-05 - val_mae: 0.0040\n",
            "Epoch 17/80\n",
            "14/14 [==============================] - 0s 6ms/step - loss: 1.9110e-04 - mae: 0.0096 - val_loss: 3.2164e-05 - val_mae: 0.0041\n",
            "Epoch 18/80\n",
            "14/14 [==============================] - 0s 7ms/step - loss: 1.6890e-04 - mae: 0.0093 - val_loss: 5.3900e-05 - val_mae: 0.0062\n",
            "Epoch 19/80\n",
            "14/14 [==============================] - 0s 7ms/step - loss: 1.8336e-04 - mae: 0.0095 - val_loss: 5.2367e-05 - val_mae: 0.0061\n",
            "Epoch 20/80\n",
            "14/14 [==============================] - 0s 15ms/step - loss: 1.7403e-04 - mae: 0.0087 - val_loss: 6.2283e-05 - val_mae: 0.0068\n",
            "Epoch 21/80\n",
            "14/14 [==============================] - 0s 7ms/step - loss: 1.5409e-04 - mae: 0.0084 - val_loss: 2.8530e-05 - val_mae: 0.0039\n",
            "Epoch 22/80\n",
            "14/14 [==============================] - 0s 6ms/step - loss: 1.3057e-04 - mae: 0.0072 - val_loss: 4.0659e-04 - val_mae: 0.0194\n",
            "Epoch 23/80\n",
            "14/14 [==============================] - 0s 6ms/step - loss: 2.0405e-04 - mae: 0.0108 - val_loss: 6.7632e-05 - val_mae: 0.0070\n",
            "Epoch 24/80\n",
            "14/14 [==============================] - 0s 7ms/step - loss: 1.5358e-04 - mae: 0.0084 - val_loss: 1.0609e-04 - val_mae: 0.0093\n",
            "Epoch 25/80\n",
            "14/14 [==============================] - 0s 7ms/step - loss: 1.5790e-04 - mae: 0.0084 - val_loss: 2.9008e-04 - val_mae: 0.0162\n",
            "Epoch 26/80\n",
            "14/14 [==============================] - 0s 7ms/step - loss: 1.9863e-04 - mae: 0.0107 - val_loss: 2.9335e-04 - val_mae: 0.0163\n",
            "Epoch 27/80\n",
            "14/14 [==============================] - 0s 6ms/step - loss: 1.5484e-04 - mae: 0.0090 - val_loss: 2.1583e-04 - val_mae: 0.0138\n",
            "Epoch 28/80\n",
            "14/14 [==============================] - 0s 7ms/step - loss: 1.7065e-04 - mae: 0.0091 - val_loss: 1.9007e-04 - val_mae: 0.0129\n",
            "Epoch 29/80\n",
            "14/14 [==============================] - 0s 7ms/step - loss: 1.8345e-04 - mae: 0.0097 - val_loss: 8.9713e-05 - val_mae: 0.0084\n",
            "Epoch 30/80\n",
            "14/14 [==============================] - 0s 6ms/step - loss: 1.8017e-04 - mae: 0.0088 - val_loss: 9.8176e-05 - val_mae: 0.0088\n",
            "Epoch 31/80\n",
            "14/14 [==============================] - 0s 7ms/step - loss: 1.7260e-04 - mae: 0.0097 - val_loss: 2.9250e-04 - val_mae: 0.0163\n",
            "Epoch 32/80\n",
            "14/14 [==============================] - 0s 7ms/step - loss: 1.8417e-04 - mae: 0.0103 - val_loss: 2.9228e-05 - val_mae: 0.0040\n",
            "Epoch 33/80\n",
            "14/14 [==============================] - 0s 7ms/step - loss: 1.7316e-04 - mae: 0.0094 - val_loss: 3.7348e-05 - val_mae: 0.0048\n",
            "Epoch 34/80\n",
            "14/14 [==============================] - 0s 7ms/step - loss: 1.7361e-04 - mae: 0.0094 - val_loss: 2.8534e-05 - val_mae: 0.0038\n",
            "Epoch 35/80\n",
            "14/14 [==============================] - 0s 6ms/step - loss: 1.3628e-04 - mae: 0.0084 - val_loss: 4.1342e-05 - val_mae: 0.0051\n",
            "Epoch 36/80\n",
            "14/14 [==============================] - 0s 7ms/step - loss: 1.3685e-04 - mae: 0.0080 - val_loss: 2.7608e-05 - val_mae: 0.0038\n",
            "Epoch 37/80\n",
            "14/14 [==============================] - 0s 7ms/step - loss: 1.7105e-04 - mae: 0.0089 - val_loss: 3.7003e-04 - val_mae: 0.0185\n",
            "Epoch 38/80\n",
            "14/14 [==============================] - 0s 6ms/step - loss: 1.5019e-04 - mae: 0.0088 - val_loss: 1.0039e-04 - val_mae: 0.0090\n",
            "Epoch 39/80\n",
            "14/14 [==============================] - 0s 7ms/step - loss: 1.6023e-04 - mae: 0.0092 - val_loss: 4.5699e-04 - val_mae: 0.0207\n",
            "Epoch 40/80\n",
            "14/14 [==============================] - 0s 7ms/step - loss: 1.5281e-04 - mae: 0.0089 - val_loss: 4.9568e-05 - val_mae: 0.0057\n",
            "Epoch 41/80\n",
            "14/14 [==============================] - 0s 7ms/step - loss: 1.6527e-04 - mae: 0.0092 - val_loss: 2.7976e-05 - val_mae: 0.0038\n",
            "Epoch 42/80\n",
            "14/14 [==============================] - 0s 6ms/step - loss: 1.3521e-04 - mae: 0.0080 - val_loss: 9.7873e-05 - val_mae: 0.0088\n",
            "Epoch 43/80\n",
            "14/14 [==============================] - 0s 7ms/step - loss: 1.4923e-04 - mae: 0.0091 - val_loss: 3.2022e-05 - val_mae: 0.0042\n",
            "Epoch 44/80\n",
            "14/14 [==============================] - 0s 7ms/step - loss: 1.5234e-04 - mae: 0.0086 - val_loss: 5.1120e-05 - val_mae: 0.0060\n",
            "Epoch 45/80\n",
            "14/14 [==============================] - 0s 6ms/step - loss: 1.2069e-04 - mae: 0.0080 - val_loss: 1.3261e-04 - val_mae: 0.0105\n",
            "Epoch 46/80\n",
            "14/14 [==============================] - 0s 7ms/step - loss: 1.5346e-04 - mae: 0.0091 - val_loss: 2.2515e-04 - val_mae: 0.0141\n",
            "Epoch 47/80\n",
            "14/14 [==============================] - 0s 7ms/step - loss: 1.7889e-04 - mae: 0.0101 - val_loss: 1.2257e-04 - val_mae: 0.0101\n",
            "Epoch 48/80\n",
            "14/14 [==============================] - 0s 7ms/step - loss: 1.3473e-04 - mae: 0.0078 - val_loss: 4.3289e-05 - val_mae: 0.0053\n",
            "Epoch 49/80\n",
            "14/14 [==============================] - 0s 6ms/step - loss: 1.2522e-04 - mae: 0.0079 - val_loss: 2.2514e-04 - val_mae: 0.0141\n",
            "Epoch 50/80\n",
            "14/14 [==============================] - 0s 7ms/step - loss: 1.5134e-04 - mae: 0.0094 - val_loss: 2.0297e-04 - val_mae: 0.0134\n",
            "Epoch 51/80\n",
            "14/14 [==============================] - 0s 8ms/step - loss: 1.4701e-04 - mae: 0.0087 - val_loss: 1.7832e-04 - val_mae: 0.0125\n",
            "Epoch 52/80\n",
            "14/14 [==============================] - 0s 6ms/step - loss: 1.2583e-04 - mae: 0.0080 - val_loss: 9.5363e-05 - val_mae: 0.0087\n",
            "Epoch 53/80\n",
            "14/14 [==============================] - 0s 7ms/step - loss: 1.1742e-04 - mae: 0.0076 - val_loss: 1.0438e-04 - val_mae: 0.0092\n",
            "Epoch 54/80\n",
            "14/14 [==============================] - 0s 7ms/step - loss: 1.1536e-04 - mae: 0.0074 - val_loss: 5.3984e-05 - val_mae: 0.0061\n",
            "Epoch 55/80\n",
            "14/14 [==============================] - 0s 7ms/step - loss: 1.1872e-04 - mae: 0.0074 - val_loss: 1.5025e-04 - val_mae: 0.0113\n",
            "Epoch 56/80\n",
            "14/14 [==============================] - 0s 7ms/step - loss: 1.1829e-04 - mae: 0.0073 - val_loss: 8.6458e-05 - val_mae: 0.0082\n",
            "Epoch 57/80\n",
            "14/14 [==============================] - 0s 6ms/step - loss: 1.0396e-04 - mae: 0.0071 - val_loss: 2.8342e-05 - val_mae: 0.0039\n",
            "Epoch 58/80\n",
            "14/14 [==============================] - 0s 6ms/step - loss: 1.1754e-04 - mae: 0.0074 - val_loss: 1.4874e-04 - val_mae: 0.0112\n",
            "Epoch 59/80\n",
            "14/14 [==============================] - 0s 6ms/step - loss: 1.3911e-04 - mae: 0.0087 - val_loss: 2.7045e-05 - val_mae: 0.0038\n",
            "Epoch 60/80\n",
            "14/14 [==============================] - 0s 6ms/step - loss: 1.1459e-04 - mae: 0.0071 - val_loss: 5.9852e-05 - val_mae: 0.0066\n",
            "Epoch 61/80\n",
            "14/14 [==============================] - 0s 7ms/step - loss: 1.2470e-04 - mae: 0.0081 - val_loss: 1.2079e-04 - val_mae: 0.0100\n",
            "Epoch 62/80\n",
            "14/14 [==============================] - 0s 6ms/step - loss: 1.6230e-04 - mae: 0.0097 - val_loss: 1.1720e-04 - val_mae: 0.0098\n",
            "Epoch 63/80\n",
            "14/14 [==============================] - 0s 6ms/step - loss: 1.3502e-04 - mae: 0.0086 - val_loss: 1.3401e-04 - val_mae: 0.0106\n",
            "Epoch 64/80\n",
            "14/14 [==============================] - 0s 6ms/step - loss: 1.4714e-04 - mae: 0.0093 - val_loss: 3.0668e-05 - val_mae: 0.0041\n",
            "Epoch 65/80\n",
            "14/14 [==============================] - 0s 6ms/step - loss: 1.0721e-04 - mae: 0.0073 - val_loss: 3.5323e-05 - val_mae: 0.0046\n",
            "Epoch 66/80\n",
            "14/14 [==============================] - 0s 7ms/step - loss: 1.2888e-04 - mae: 0.0079 - val_loss: 8.2243e-05 - val_mae: 0.0080\n",
            "Epoch 67/80\n",
            "14/14 [==============================] - 0s 6ms/step - loss: 1.4336e-04 - mae: 0.0087 - val_loss: 8.8499e-05 - val_mae: 0.0083\n",
            "Epoch 68/80\n",
            "14/14 [==============================] - 0s 7ms/step - loss: 1.4116e-04 - mae: 0.0091 - val_loss: 6.9149e-05 - val_mae: 0.0072\n",
            "Epoch 69/80\n",
            "14/14 [==============================] - 0s 7ms/step - loss: 1.1734e-04 - mae: 0.0077 - val_loss: 3.6078e-05 - val_mae: 0.0047\n",
            "Epoch 70/80\n",
            "14/14 [==============================] - 0s 15ms/step - loss: 1.2353e-04 - mae: 0.0076 - val_loss: 5.5825e-05 - val_mae: 0.0063\n",
            "Epoch 71/80\n",
            "14/14 [==============================] - 0s 6ms/step - loss: 1.0333e-04 - mae: 0.0072 - val_loss: 1.6953e-04 - val_mae: 0.0120\n",
            "Epoch 72/80\n",
            "14/14 [==============================] - 0s 7ms/step - loss: 1.2536e-04 - mae: 0.0081 - val_loss: 1.4682e-04 - val_mae: 0.0112\n",
            "Epoch 73/80\n",
            "14/14 [==============================] - 0s 6ms/step - loss: 1.3183e-04 - mae: 0.0088 - val_loss: 2.3708e-04 - val_mae: 0.0146\n",
            "Epoch 74/80\n",
            "14/14 [==============================] - 0s 6ms/step - loss: 1.3997e-04 - mae: 0.0085 - val_loss: 6.0522e-05 - val_mae: 0.0066\n",
            "Epoch 75/80\n",
            "14/14 [==============================] - 0s 7ms/step - loss: 1.2437e-04 - mae: 0.0084 - val_loss: 2.1489e-04 - val_mae: 0.0138\n",
            "Epoch 76/80\n",
            "14/14 [==============================] - 0s 6ms/step - loss: 1.5380e-04 - mae: 0.0093 - val_loss: 4.3440e-05 - val_mae: 0.0053\n",
            "Epoch 77/80\n",
            "14/14 [==============================] - 0s 6ms/step - loss: 1.0235e-04 - mae: 0.0068 - val_loss: 5.4201e-05 - val_mae: 0.0062\n",
            "Epoch 78/80\n",
            "14/14 [==============================] - 0s 7ms/step - loss: 1.4175e-04 - mae: 0.0085 - val_loss: 3.1068e-05 - val_mae: 0.0042\n",
            "Epoch 79/80\n",
            "14/14 [==============================] - 0s 6ms/step - loss: 1.1061e-04 - mae: 0.0075 - val_loss: 1.7021e-04 - val_mae: 0.0122\n",
            "Epoch 80/80\n",
            "14/14 [==============================] - 0s 7ms/step - loss: 1.5665e-04 - mae: 0.0090 - val_loss: 1.4108e-04 - val_mae: 0.0109\n"
          ],
          "name": "stdout"
        },
        {
          "output_type": "execute_result",
          "data": {
            "text/plain": [
              "<tensorflow.python.keras.callbacks.History at 0x7f22101ab828>"
            ]
          },
          "metadata": {
            "tags": []
          },
          "execution_count": 22
        }
      ]
    },
    {
      "cell_type": "code",
      "metadata": {
        "id": "oPr9TMRTMLte",
        "colab": {
          "base_uri": "https://localhost:8080/"
        },
        "outputId": "43a8ff75-45d3-4b71-894c-691a703f5e09"
      },
      "source": [
        "model.fit(\n",
        "    trainX,\n",
        "    trainY,\n",
        "    batch_size=128,\n",
        "    epochs=40,\n",
        "    validation_split=0.05)"
      ],
      "execution_count": null,
      "outputs": [
        {
          "output_type": "stream",
          "text": [
            "Epoch 1/40\n",
            "14/14 [==============================] - 0s 9ms/step - loss: 1.1771e-04 - mae: 0.0077 - val_loss: 1.2990e-04 - val_mae: 0.0104\n",
            "Epoch 2/40\n",
            "14/14 [==============================] - 0s 7ms/step - loss: 1.2038e-04 - mae: 0.0081 - val_loss: 2.7745e-05 - val_mae: 0.0038\n",
            "Epoch 3/40\n",
            "14/14 [==============================] - 0s 7ms/step - loss: 1.3192e-04 - mae: 0.0084 - val_loss: 2.6813e-05 - val_mae: 0.0037\n",
            "Epoch 4/40\n",
            "14/14 [==============================] - 0s 7ms/step - loss: 1.2939e-04 - mae: 0.0082 - val_loss: 1.5152e-04 - val_mae: 0.0114\n",
            "Epoch 5/40\n",
            "14/14 [==============================] - 0s 7ms/step - loss: 1.1725e-04 - mae: 0.0078 - val_loss: 1.3788e-04 - val_mae: 0.0108\n",
            "Epoch 6/40\n",
            "14/14 [==============================] - 0s 6ms/step - loss: 1.1558e-04 - mae: 0.0077 - val_loss: 5.4838e-05 - val_mae: 0.0062\n",
            "Epoch 7/40\n",
            "14/14 [==============================] - 0s 7ms/step - loss: 1.3347e-04 - mae: 0.0088 - val_loss: 2.7547e-05 - val_mae: 0.0038\n",
            "Epoch 8/40\n",
            "14/14 [==============================] - 0s 7ms/step - loss: 1.1071e-04 - mae: 0.0077 - val_loss: 6.7351e-05 - val_mae: 0.0071\n",
            "Epoch 9/40\n",
            "14/14 [==============================] - 0s 7ms/step - loss: 1.5167e-04 - mae: 0.0089 - val_loss: 6.4474e-05 - val_mae: 0.0069\n",
            "Epoch 10/40\n",
            "14/14 [==============================] - 0s 7ms/step - loss: 9.4566e-05 - mae: 0.0068 - val_loss: 2.9945e-05 - val_mae: 0.0041\n",
            "Epoch 11/40\n",
            "14/14 [==============================] - 0s 7ms/step - loss: 1.4091e-04 - mae: 0.0088 - val_loss: 5.0833e-05 - val_mae: 0.0059\n",
            "Epoch 12/40\n",
            "14/14 [==============================] - 0s 7ms/step - loss: 1.3694e-04 - mae: 0.0086 - val_loss: 3.0766e-05 - val_mae: 0.0041\n",
            "Epoch 13/40\n",
            "14/14 [==============================] - 0s 6ms/step - loss: 1.1392e-04 - mae: 0.0078 - val_loss: 1.4281e-04 - val_mae: 0.0109\n",
            "Epoch 14/40\n",
            "14/14 [==============================] - 0s 7ms/step - loss: 1.1514e-04 - mae: 0.0076 - val_loss: 2.7780e-05 - val_mae: 0.0039\n",
            "Epoch 15/40\n",
            "14/14 [==============================] - 0s 7ms/step - loss: 1.1789e-04 - mae: 0.0083 - val_loss: 2.6579e-05 - val_mae: 0.0037\n",
            "Epoch 16/40\n",
            "14/14 [==============================] - 0s 6ms/step - loss: 1.2150e-04 - mae: 0.0079 - val_loss: 1.2400e-04 - val_mae: 0.0102\n",
            "Epoch 17/40\n",
            "14/14 [==============================] - 0s 7ms/step - loss: 1.3771e-04 - mae: 0.0082 - val_loss: 1.4354e-04 - val_mae: 0.0110\n",
            "Epoch 18/40\n",
            "14/14 [==============================] - 0s 6ms/step - loss: 1.1196e-04 - mae: 0.0073 - val_loss: 6.1395e-05 - val_mae: 0.0068\n",
            "Epoch 19/40\n",
            "14/14 [==============================] - 0s 7ms/step - loss: 1.2296e-04 - mae: 0.0081 - val_loss: 9.5400e-05 - val_mae: 0.0087\n",
            "Epoch 20/40\n",
            "14/14 [==============================] - 0s 7ms/step - loss: 1.3348e-04 - mae: 0.0083 - val_loss: 1.8196e-04 - val_mae: 0.0126\n",
            "Epoch 21/40\n",
            "14/14 [==============================] - 0s 7ms/step - loss: 1.2532e-04 - mae: 0.0078 - val_loss: 2.6585e-05 - val_mae: 0.0037\n",
            "Epoch 22/40\n",
            "14/14 [==============================] - 0s 7ms/step - loss: 1.1506e-04 - mae: 0.0078 - val_loss: 2.6394e-05 - val_mae: 0.0037\n",
            "Epoch 23/40\n",
            "14/14 [==============================] - 0s 6ms/step - loss: 1.2139e-04 - mae: 0.0082 - val_loss: 3.6550e-04 - val_mae: 0.0184\n",
            "Epoch 24/40\n",
            "14/14 [==============================] - 0s 7ms/step - loss: 1.1798e-04 - mae: 0.0076 - val_loss: 1.2549e-04 - val_mae: 0.0103\n",
            "Epoch 25/40\n",
            "14/14 [==============================] - 0s 7ms/step - loss: 1.2508e-04 - mae: 0.0082 - val_loss: 2.5422e-04 - val_mae: 0.0151\n",
            "Epoch 26/40\n",
            "14/14 [==============================] - 0s 7ms/step - loss: 1.0929e-04 - mae: 0.0076 - val_loss: 3.1076e-05 - val_mae: 0.0041\n",
            "Epoch 27/40\n",
            "14/14 [==============================] - 0s 7ms/step - loss: 1.2631e-04 - mae: 0.0081 - val_loss: 3.6441e-05 - val_mae: 0.0047\n",
            "Epoch 28/40\n",
            "14/14 [==============================] - 0s 7ms/step - loss: 1.0854e-04 - mae: 0.0077 - val_loss: 2.7425e-05 - val_mae: 0.0038\n",
            "Epoch 29/40\n",
            "14/14 [==============================] - 0s 7ms/step - loss: 1.0427e-04 - mae: 0.0072 - val_loss: 2.5499e-04 - val_mae: 0.0151\n",
            "Epoch 30/40\n",
            "14/14 [==============================] - 0s 7ms/step - loss: 1.1987e-04 - mae: 0.0083 - val_loss: 1.4187e-04 - val_mae: 0.0110\n",
            "Epoch 31/40\n",
            "14/14 [==============================] - 0s 7ms/step - loss: 1.1608e-04 - mae: 0.0080 - val_loss: 4.4689e-05 - val_mae: 0.0055\n",
            "Epoch 32/40\n",
            "14/14 [==============================] - 0s 7ms/step - loss: 1.3748e-04 - mae: 0.0085 - val_loss: 6.5244e-05 - val_mae: 0.0069\n",
            "Epoch 33/40\n",
            "14/14 [==============================] - 0s 6ms/step - loss: 1.0888e-04 - mae: 0.0077 - val_loss: 2.7908e-05 - val_mae: 0.0038\n",
            "Epoch 34/40\n",
            "14/14 [==============================] - 0s 6ms/step - loss: 1.1905e-04 - mae: 0.0081 - val_loss: 3.2544e-05 - val_mae: 0.0043\n",
            "Epoch 35/40\n",
            "14/14 [==============================] - 0s 6ms/step - loss: 1.3662e-04 - mae: 0.0083 - val_loss: 2.6528e-04 - val_mae: 0.0155\n",
            "Epoch 36/40\n",
            "14/14 [==============================] - 0s 7ms/step - loss: 1.0412e-04 - mae: 0.0073 - val_loss: 3.8811e-05 - val_mae: 0.0049\n",
            "Epoch 37/40\n",
            "14/14 [==============================] - 0s 7ms/step - loss: 9.5652e-05 - mae: 0.0069 - val_loss: 3.8905e-05 - val_mae: 0.0050\n",
            "Epoch 38/40\n",
            "14/14 [==============================] - 0s 7ms/step - loss: 1.2541e-04 - mae: 0.0080 - val_loss: 1.2026e-04 - val_mae: 0.0099\n",
            "Epoch 39/40\n",
            "14/14 [==============================] - 0s 7ms/step - loss: 1.2670e-04 - mae: 0.0080 - val_loss: 9.5159e-05 - val_mae: 0.0087\n",
            "Epoch 40/40\n",
            "14/14 [==============================] - 0s 7ms/step - loss: 9.9726e-05 - mae: 0.0070 - val_loss: 1.3884e-04 - val_mae: 0.0108\n"
          ],
          "name": "stdout"
        },
        {
          "output_type": "execute_result",
          "data": {
            "text/plain": [
              "<tensorflow.python.keras.callbacks.History at 0x7f21bc566240>"
            ]
          },
          "metadata": {
            "tags": []
          },
          "execution_count": 23
        }
      ]
    },
    {
      "cell_type": "code",
      "metadata": {
        "id": "rwvxuXwVMSlU",
        "colab": {
          "base_uri": "https://localhost:8080/",
          "height": 279
        },
        "outputId": "75ad3ee2-be07-4858-b9b1-da12869e786b"
      },
      "source": [
        "import matplotlib.pyplot as plt\n",
        "predicted_stateful = model.predict(testX)\n",
        "plt.plot(testY, color = 'red',label = 'Actual Closing Prices')\n",
        "plt.plot(predicted_stateful.flatten(), color = 'blue', label  = 'Predicted closing Prices')\n",
        "plt.xlabel('Days')\n",
        "plt.ylabel('Normalised Prices')\n",
        "plt.legend(loc='best')\n",
        "plt.show()"
      ],
      "execution_count": null,
      "outputs": [
        {
          "output_type": "display_data",
          "data": {
            "image/png": "[encoded data removed]",
            "text/plain": [
              "<Figure size 432x288 with 1 Axes>"
            ]
          },
          "metadata": {
            "tags": [],
            "needs_background": "light"
          }
        }
      ]
    },
    {
      "cell_type": "code",
      "metadata": {
        "id": "OEC5Ta3UMW06",
        "colab": {
          "base_uri": "https://localhost:8080/"
        },
        "outputId": "39c2a0fa-12dc-43f9-8413-0a36271dc81f"
      },
      "source": [
        "mae = model.evaluate(trainX,\n",
        "    trainY,\n",
        "    batch_size=128,verbose=1)"
      ],
      "execution_count": null,
      "outputs": [
        {
          "output_type": "stream",
          "text": [
            "15/15 [==============================] - 0s 2ms/step - loss: 7.4152e-05 - mae: 0.0078\n"
          ],
          "name": "stdout"
        }
      ]
    },
    {
      "cell_type": "code",
      "metadata": {
        "id": "XgDYiacE87s7"
      },
      "source": [
        "from keras.models import load_model\n",
        "model.save('future_prediction_lstm.h5')"
      ],
      "execution_count": 31,
      "outputs": []
    }
  ]
}