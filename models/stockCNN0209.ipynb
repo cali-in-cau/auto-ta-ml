{
 "cells": [
  {
   "cell_type": "code",
   "execution_count": 1,
   "metadata": {
    "colab": {
     "base_uri": "https://localhost:8080/"
    },
    "id": "KNbgI1ilqHtH",
    "outputId": "f851c17b-d1c5-4ce8-9448-5e187d912984"
   },
   "outputs": [
    {
     "name": "stdout",
     "output_type": "stream",
     "text": [
      "Requirement already satisfied: google in /home/super/anaconda3/envs/fastai/lib/python3.8/site-packages (3.0.0)\n",
      "Requirement already satisfied: beautifulsoup4 in /home/super/anaconda3/envs/fastai/lib/python3.8/site-packages (from google) (4.9.3)\n",
      "Requirement already satisfied: soupsieve>1.2 in /home/super/anaconda3/envs/fastai/lib/python3.8/site-packages (from beautifulsoup4->google) (2.1)\n",
      "Collecting kornia\n",
      "  Downloading kornia-0.4.1-py2.py3-none-any.whl (225 kB)\n",
      "\u001b[K     |████████████████████████████████| 225 kB 1.9 MB/s eta 0:00:01\n",
      "\u001b[?25hRequirement already satisfied: numpy in /home/super/anaconda3/envs/fastai/lib/python3.8/site-packages (from kornia) (1.19.2)\n",
      "Requirement already satisfied: torch>=1.6.0 in /home/super/anaconda3/envs/fastai/lib/python3.8/site-packages (from kornia) (1.7.1)\n",
      "Requirement already satisfied: typing_extensions in /home/super/anaconda3/envs/fastai/lib/python3.8/site-packages (from torch>=1.6.0->kornia) (3.7.4.3)\n",
      "Installing collected packages: kornia\n",
      "Successfully installed kornia-0.4.1\n"
     ]
    }
   ],
   "source": [
    "!pip install fastai --upgrade -q\n",
    "!pip install google\n",
    "!pip install kornia\n"
   ]
  },
  {
   "cell_type": "code",
   "execution_count": 1,
   "metadata": {
    "id": "JKbEvsKoqQvW"
   },
   "outputs": [],
   "source": [
    "from fastai.vision.all import *\n",
    "from kornia import rgb_to_grayscale"
   ]
  },
  {
   "cell_type": "code",
   "execution_count": 2,
   "metadata": {},
   "outputs": [],
   "source": [
    "#!unzip data/top20.zip -d data/top20"
   ]
  },
  {
   "cell_type": "code",
   "execution_count": 3,
   "metadata": {
    "id": "m1DEedstydKy"
   },
   "outputs": [
    {
     "name": "stdout",
     "output_type": "stream",
     "text": [
      "numer of class : 21\n",
      "data/2018-3year-5days-nasdaqtop300-new-reduced\n"
     ]
    }
   ],
   "source": [
    "chart_class = ['CDLENGULFING_BULL', 'CDLENGULFING_BEAR', 'CDLSHORTLINE_BULL', 'CDLSHORTLINE_BEAR', 'CDLHIKKAKE_BULL', 'CDLHARAMI_BULL', 'CDLBELTHOLD_BULL', 'CDLHIKKAKE_BEAR', 'CDLHARAMI_BEAR', 'CDLBELTHOLD_BEAR', 'CDLLONGLINE_BULL', 'CDLLONGLINE_BEAR', 'CDLCLOSINGMARUBOZU_BULL', 'CDLHIGHWAVE_BEAR', 'CDLCLOSINGMARUBOZU_BEAR', 'CDLDOJI_BULL', 'CDLRICKSHAWMAN_BULL', 'CDLSPINNINGTOP_BULL', 'CDLHIGHWAVE_BULL', 'CDLSPINNINGTOP_BEAR', 'CDLLONGLEGGEDDOJI_BULL']\n",
    "print(\"numer of class : {0}\".format(len(chart_class)))\n",
    "root_dir = 'data'\n",
    "#base_dir = root_dir + '/top20'\n",
    "#base_dir = root_dir + '/top10'\n",
    "base_dir = root_dir + '/2018-3year-5days-nasdaqtop300-new-reduced'\n",
    "path = Path(base_dir)\n",
    "print(path)"
   ]
  },
  {
   "cell_type": "code",
   "execution_count": 6,
   "metadata": {
    "id": "WAWIRe19pixh"
   },
   "outputs": [],
   "source": [
    "class RGB2GreyTransform(DisplayedTransform):\n",
    "    order = 15 # run after IntToFloatTransform\n",
    "    def encodes(self, o:TensorImage):\n",
    "        c = o.shape[1]\n",
    "        return rgb_to_grayscale(o).expand(-1,c,-1,-1)\n",
    "    \n",
    "charts = DataBlock(blocks=(ImageBlock, CategoryBlock),\n",
    "   get_items=get_image_files,\n",
    "   get_y=parent_label,\n",
    "   splitter=RandomSplitter(valid_pct=0.2, seed=42),\n",
    "   #item_tfms=Resize(400),\n",
    "# 288*201\n",
    "   batch_tfms = [IntToFloatTensor(), RGB2GreyTransform()])\n",
    "    #item_tfms=RandomResizedCrop(224, min_scale=0.5)\n",
    "   #batch_tfms=aug_transforms()"
   ]
  },
  {
   "cell_type": "code",
   "execution_count": 7,
   "metadata": {
    "id": "rLzaM0McrAoE"
   },
   "outputs": [],
   "source": [
    "dls = charts.dataloaders(path)"
   ]
  },
  {
   "cell_type": "code",
   "execution_count": 8,
   "metadata": {
    "colab": {
     "base_uri": "https://localhost:8080/",
     "height": 370
    },
    "id": "siDCRbUFraoh",
    "outputId": "575bc3af-a83a-4825-a16d-db1a231ff3fe"
   },
   "outputs": [
    {
     "data": {
      "image/png": "[encoded data removed]",
      "text/plain": [
       "<Figure size 864x432 with 8 Axes>"
      ]
     },
     "metadata": {
      "needs_background": "light"
     },
     "output_type": "display_data"
    }
   ],
   "source": [
    "dls.train.show_batch(max_n=8, nrows=2)"
   ]
  },
  {
   "cell_type": "code",
   "execution_count": null,
   "metadata": {
    "colab": {
     "base_uri": "https://localhost:8080/",
     "height": 267
    },
    "id": "mWdqAweissbX",
    "outputId": "c004f187-958a-44c2-dc6b-8818468b6a3f"
   },
   "outputs": [
    {
     "data": {
      "text/html": [
       "<table border=\"1\" class=\"dataframe\">\n",
       "  <thead>\n",
       "    <tr style=\"text-align: left;\">\n",
       "      <th>epoch</th>\n",
       "      <th>train_loss</th>\n",
       "      <th>valid_loss</th>\n",
       "      <th>accuracy</th>\n",
       "      <th>time</th>\n",
       "    </tr>\n",
       "  </thead>\n",
       "  <tbody>\n",
       "    <tr>\n",
       "      <td>0</td>\n",
       "      <td>2.154615</td>\n",
       "      <td>1.842564</td>\n",
       "      <td>0.325762</td>\n",
       "      <td>05:17</td>\n",
       "    </tr>\n",
       "  </tbody>\n",
       "</table>"
      ],
      "text/plain": [
       "<IPython.core.display.HTML object>"
      ]
     },
     "metadata": {},
     "output_type": "display_data"
    },
    {
     "data": {
      "text/html": [
       "\n",
       "    <div>\n",
       "        <style>\n",
       "            /* Turns off some styling */\n",
       "            progress {\n",
       "                /* gets rid of default border in Firefox and Opera. */\n",
       "                border: none;\n",
       "                /* Needs to be in here for Safari polyfill so background images work as expected. */\n",
       "                background-size: auto;\n",
       "            }\n",
       "            .progress-bar-interrupted, .progress-bar-interrupted::-webkit-progress-bar {\n",
       "                background: #F44336;\n",
       "            }\n",
       "        </style>\n",
       "      <progress value='12' class='' max='15' style='width:300px; height:20px; vertical-align: middle;'></progress>\n",
       "      80.00% [12/15 1:32:40<23:10]\n",
       "    </div>\n",
       "    \n",
       "<table border=\"1\" class=\"dataframe\">\n",
       "  <thead>\n",
       "    <tr style=\"text-align: left;\">\n",
       "      <th>epoch</th>\n",
       "      <th>train_loss</th>\n",
       "      <th>valid_loss</th>\n",
       "      <th>accuracy</th>\n",
       "      <th>time</th>\n",
       "    </tr>\n",
       "  </thead>\n",
       "  <tbody>\n",
       "    <tr>\n",
       "      <td>0</td>\n",
       "      <td>1.566577</td>\n",
       "      <td>1.399601</td>\n",
       "      <td>0.465286</td>\n",
       "      <td>07:39</td>\n",
       "    </tr>\n",
       "    <tr>\n",
       "      <td>1</td>\n",
       "      <td>1.471846</td>\n",
       "      <td>1.332659</td>\n",
       "      <td>0.482857</td>\n",
       "      <td>07:38</td>\n",
       "    </tr>\n",
       "    <tr>\n",
       "      <td>2</td>\n",
       "      <td>1.445958</td>\n",
       "      <td>1.315233</td>\n",
       "      <td>0.473095</td>\n",
       "      <td>07:43</td>\n",
       "    </tr>\n",
       "    <tr>\n",
       "      <td>3</td>\n",
       "      <td>1.383509</td>\n",
       "      <td>1.281193</td>\n",
       "      <td>0.482667</td>\n",
       "      <td>07:43</td>\n",
       "    </tr>\n",
       "    <tr>\n",
       "      <td>4</td>\n",
       "      <td>1.354628</td>\n",
       "      <td>1.262655</td>\n",
       "      <td>0.490667</td>\n",
       "      <td>07:45</td>\n",
       "    </tr>\n",
       "    <tr>\n",
       "      <td>5</td>\n",
       "      <td>1.285627</td>\n",
       "      <td>1.259483</td>\n",
       "      <td>0.488286</td>\n",
       "      <td>07:41</td>\n",
       "    </tr>\n",
       "    <tr>\n",
       "      <td>6</td>\n",
       "      <td>1.272244</td>\n",
       "      <td>1.250204</td>\n",
       "      <td>0.484524</td>\n",
       "      <td>07:39</td>\n",
       "    </tr>\n",
       "    <tr>\n",
       "      <td>7</td>\n",
       "      <td>1.250558</td>\n",
       "      <td>1.228802</td>\n",
       "      <td>0.503667</td>\n",
       "      <td>07:42</td>\n",
       "    </tr>\n",
       "    <tr>\n",
       "      <td>8</td>\n",
       "      <td>1.171731</td>\n",
       "      <td>1.226687</td>\n",
       "      <td>0.493000</td>\n",
       "      <td>07:43</td>\n",
       "    </tr>\n",
       "    <tr>\n",
       "      <td>9</td>\n",
       "      <td>1.128652</td>\n",
       "      <td>1.248985</td>\n",
       "      <td>0.489476</td>\n",
       "      <td>07:43</td>\n",
       "    </tr>\n",
       "    <tr>\n",
       "      <td>10</td>\n",
       "      <td>1.059182</td>\n",
       "      <td>1.319566</td>\n",
       "      <td>0.467048</td>\n",
       "      <td>07:48</td>\n",
       "    </tr>\n",
       "    <tr>\n",
       "      <td>11</td>\n",
       "      <td>0.990377</td>\n",
       "      <td>1.379663</td>\n",
       "      <td>0.449905</td>\n",
       "      <td>07:49</td>\n",
       "    </tr>\n",
       "  </tbody>\n",
       "</table><p>\n",
       "\n",
       "    <div>\n",
       "        <style>\n",
       "            /* Turns off some styling */\n",
       "            progress {\n",
       "                /* gets rid of default border in Firefox and Opera. */\n",
       "                border: none;\n",
       "                /* Needs to be in here for Safari polyfill so background images work as expected. */\n",
       "                background-size: auto;\n",
       "            }\n",
       "            .progress-bar-interrupted, .progress-bar-interrupted::-webkit-progress-bar {\n",
       "                background: #F44336;\n",
       "            }\n",
       "        </style>\n",
       "      <progress value='977' class='' max='1312' style='width:300px; height:20px; vertical-align: middle;'></progress>\n",
       "      74.47% [977/1312 05:15<01:48 0.9175]\n",
       "    </div>\n",
       "    "
      ],
      "text/plain": [
       "<IPython.core.display.HTML object>"
      ]
     },
     "metadata": {},
     "output_type": "display_data"
    }
   ],
   "source": [
    "torch.cuda.empty_cache()\n",
    "learn = cnn_learner(dls, resnet34, loss_func=CrossEntropyLossFlat(), metrics=accuracy)\n",
    "learn.model = torch.nn.DataParallel(learn.model, device_ids=[0,1,2,3,4,5,6,7])\n",
    "#learn.model.to(f'cuda:{learn.model.device_ids[0]}')\n",
    "\n",
    "#서버 multiple gpu 8대\n",
    "learn.fine_tune(15)\n",
    "#사용할수 있는 learner, epoch숫자는 어떻게 변하는가?\n",
    "#mnasnet이랑 resnet152, densenet161, 돌려보기\n",
    "#metrics== accuracy로 돌려볼것\n",
    "\n",
    "\n",
    "# import torch\n",
    "\n",
    "# torch.cuda.empty_cache()\n",
    "# learn = cnn_learner(dls, resnet50, metrics=error_rate)\n",
    "# #learn.model = torch.nn.DataParallel(learn.model, device_ids=[0, 1,2,3,4,5,6,7])\n",
    "# #lr_min, lr_steep = learn.lr_find()\n",
    "# learn.fine_tune(15)"
   ]
  },
  {
   "cell_type": "code",
   "execution_count": null,
   "metadata": {
    "colab": {
     "base_uri": "https://localhost:8080/"
    },
    "id": "cPMMwwvJrWki",
    "outputId": "5cf8c922-27c8-480f-d520-501a3ee71884"
   },
   "outputs": [],
   "source": [
    "#dls.vocab"
   ]
  },
  {
   "cell_type": "code",
   "execution_count": 10,
   "metadata": {},
   "outputs": [
    {
     "data": {
      "text/html": [],
      "text/plain": [
       "<IPython.core.display.HTML object>"
      ]
     },
     "metadata": {},
     "output_type": "display_data"
    },
    {
     "name": "stdout",
     "output_type": "stream",
     "text": [
      "                         precision    recall  f1-score   support\n",
      "\n",
      "       CDL3OUTSIDE_BEAR       0.69      0.93      0.79       985\n",
      "       CDL3OUTSIDE_BULL       0.69      0.93      0.79       996\n",
      "       CDLBELTHOLD_BEAR       0.66      0.38      0.48       987\n",
      "       CDLBELTHOLD_BULL       0.67      0.39      0.50       998\n",
      "CDLCLOSINGMARUBOZU_BEAR       0.64      0.41      0.50      1033\n",
      "CDLCLOSINGMARUBOZU_BULL       0.59      0.32      0.41       994\n",
      "           CDLDOJI_BULL       0.20      0.02      0.04       990\n",
      "      CDLENGULFING_BEAR       0.64      0.77      0.70       968\n",
      "      CDLENGULFING_BULL       0.65      0.85      0.74       974\n",
      "         CDLHAMMER_BULL       0.70      0.79      0.74       989\n",
      "     CDLHANGINGMAN_BEAR       0.74      0.85      0.79      1023\n",
      "         CDLHARAMI_BEAR       0.56      0.91      0.69      1023\n",
      "         CDLHARAMI_BULL       0.51      0.75      0.61       989\n",
      "       CDLHIGHWAVE_BEAR       0.35      0.53      0.42       998\n",
      "       CDLHIGHWAVE_BULL       0.31      0.45      0.36       981\n",
      "        CDLHIKKAKE_BEAR       0.44      0.64      0.53      1007\n",
      "        CDLHIKKAKE_BULL       0.48      0.61      0.54      1021\n",
      " CDLLONGLEGGEDDOJI_BULL       0.12      0.02      0.04       989\n",
      "       CDLLONGLINE_BEAR       0.49      0.20      0.28      1001\n",
      "       CDLLONGLINE_BULL       0.43      0.24      0.31       991\n",
      "       CDLMARUBOZU_BEAR       0.44      0.83      0.58       991\n",
      "       CDLMARUBOZU_BULL       0.46      0.80      0.59      1004\n",
      "    CDLMATCHINGLOW_BULL       0.63      0.80      0.70      1047\n",
      "    CDLRICKSHAWMAN_BULL       0.18      0.05      0.08       982\n",
      "   CDLSHOOTINGSTAR_BEAR       0.77      0.91      0.84       978\n",
      "      CDLSHORTLINE_BEAR       0.60      0.46      0.52      1017\n",
      "      CDLSHORTLINE_BULL       0.56      0.49      0.53      1035\n",
      "    CDLSPINNINGTOP_BEAR       0.51      0.24      0.33      1014\n",
      "    CDLSPINNINGTOP_BULL       0.44      0.27      0.33       995\n",
      "\n",
      "               accuracy                           0.55     29000\n",
      "              macro avg       0.52      0.55      0.51     29000\n",
      "           weighted avg       0.52      0.55      0.51     29000\n",
      "\n"
     ]
    }
   ],
   "source": [
    "interp = ClassificationInterpretation.from_learner(learn)\n",
    "interp.print_classification_report()"
   ]
  },
  {
   "cell_type": "code",
   "execution_count": 1,
   "metadata": {},
   "outputs": [
    {
     "ename": "NameError",
     "evalue": "name 'learn' is not defined",
     "output_type": "error",
     "traceback": [
      "\u001b[0;31m---------------------------------------------------------------------------\u001b[0m",
      "\u001b[0;31mNameError\u001b[0m                                 Traceback (most recent call last)",
      "\u001b[0;32m<ipython-input-1-7b9c7f599fb9>\u001b[0m in \u001b[0;36m<module>\u001b[0;34m\u001b[0m\n\u001b[1;32m      1\u001b[0m \u001b[0mpkl_name\u001b[0m \u001b[0;34m=\u001b[0m \u001b[0;34m\"2016-5year-5days-nasdaqtop300-reduced-wb-5000.pkl\"\u001b[0m\u001b[0;34m\u001b[0m\u001b[0;34m\u001b[0m\u001b[0m\n\u001b[0;32m----> 2\u001b[0;31m \u001b[0mlearn\u001b[0m\u001b[0;34m.\u001b[0m\u001b[0mmodel\u001b[0m \u001b[0;34m=\u001b[0m \u001b[0mlearn\u001b[0m\u001b[0;34m.\u001b[0m\u001b[0mmodel\u001b[0m\u001b[0;34m.\u001b[0m\u001b[0mmodule\u001b[0m\u001b[0;34m\u001b[0m\u001b[0;34m\u001b[0m\u001b[0m\n\u001b[0m\u001b[1;32m      3\u001b[0m \u001b[0mlearn\u001b[0m\u001b[0;34m.\u001b[0m\u001b[0mexport\u001b[0m\u001b[0;34m(\u001b[0m\u001b[0mpkl_name\u001b[0m\u001b[0;34m)\u001b[0m\u001b[0;34m\u001b[0m\u001b[0;34m\u001b[0m\u001b[0m\n\u001b[1;32m      4\u001b[0m \u001b[0mpath\u001b[0m \u001b[0;34m=\u001b[0m \u001b[0mPath\u001b[0m\u001b[0;34m(\u001b[0m\u001b[0;34m)\u001b[0m\u001b[0;34m\u001b[0m\u001b[0;34m\u001b[0m\u001b[0m\n\u001b[1;32m      5\u001b[0m \u001b[0mpath\u001b[0m\u001b[0;34m.\u001b[0m\u001b[0mls\u001b[0m\u001b[0;34m(\u001b[0m\u001b[0mfile_exts\u001b[0m\u001b[0;34m=\u001b[0m\u001b[0mpkl_name\u001b[0m\u001b[0;34m)\u001b[0m\u001b[0;34m\u001b[0m\u001b[0;34m\u001b[0m\u001b[0m\n",
      "\u001b[0;31mNameError\u001b[0m: name 'learn' is not defined"
     ]
    }
   ],
   "source": [
    "pkl_name = \"2016-5year-5days-nasdaqtop300-reduced-wb-5000.pkl\"\n",
    "learn.model = learn.model.module\n",
    "learn.export(pkl_name)\n",
    "path = Path()\n",
    "path.ls(file_exts=pkl_name)"
   ]
  },
  {
   "cell_type": "code",
   "execution_count": null,
   "metadata": {},
   "outputs": [],
   "source": []
  }
 ],
 "metadata": {
  "accelerator": "GPU",
  "colab": {
   "name": "stockCNN.ipynb",
   "provenance": []
  },
  "kernelspec": {
   "display_name": "Python 3",
   "language": "python",
   "name": "python3"
  },
  "language_info": {
   "codemirror_mode": {
    "name": "ipython",
    "version": 3
   },
   "file_extension": ".py",
   "mimetype": "text/x-python",
   "name": "python",
   "nbconvert_exporter": "python",
   "pygments_lexer": "ipython3",
   "version": "3.8.5"
  }
 },
 "nbformat": 4,
 "nbformat_minor": 1
}
